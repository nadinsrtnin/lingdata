{
  "cells": [
    {
      "cell_type": "markdown",
      "id": "3bcdd337-ba52-47ee-838f-8a02ce2aa73f",
      "metadata": {
        "id": "3bcdd337-ba52-47ee-838f-8a02ce2aa73f"
      },
      "source": [
        "Напишите функцию, которая принимает какой-то объект и возвращает, пустой он или нет."
      ]
    },
    {
      "cell_type": "code",
      "execution_count": null,
      "id": "06da28a2-7e0a-4511-8f27-5541aa1037db",
      "metadata": {
        "id": "06da28a2-7e0a-4511-8f27-5541aa1037db"
      },
      "outputs": [],
      "source": [
        "# my code here"
      ]
    },
    {
      "cell_type": "markdown",
      "id": "dd32a176-51a8-4a07-8acd-6efae94bed2b",
      "metadata": {
        "id": "dd32a176-51a8-4a07-8acd-6efae94bed2b"
      },
      "source": [
        " #### Задача 1.\n",
        "\n",
        " Напишите функцию, которая будет принимать какое-нибудь логическое выражение или объект типа bool и возвращать 'Да' или 'Нет'."
      ]
    },
    {
      "cell_type": "code",
      "execution_count": 1,
      "id": "8ac36b61-cba4-46a8-82b3-6892d07f712d",
      "metadata": {
        "id": "8ac36b61-cba4-46a8-82b3-6892d07f712d",
        "colab": {
          "base_uri": "https://localhost:8080/"
        },
        "outputId": "e817a4ac-133b-470a-edbb-890030aab737"
      },
      "outputs": [
        {
          "output_type": "stream",
          "name": "stdout",
          "text": [
            "да\n",
            "нет\n",
            "да да нет\n"
          ]
        }
      ],
      "source": [
        "def yesno(object):\n",
        "  if isinstance(object, bool):\n",
        "    return 'да' if object else 'нет'\n",
        "  else:\n",
        "    raise Error\n",
        "print(yesno(True))\n",
        "(print(yesno(False)))\n",
        "\n",
        "\n",
        "print(yesno(2 < 3), yesno(True), yesno('hello' > 'world'))"
      ]
    },
    {
      "cell_type": "markdown",
      "id": "ed849c22-2719-438a-b2e5-62090131ba56",
      "metadata": {
        "id": "ed849c22-2719-438a-b2e5-62090131ba56"
      },
      "source": [
        "Напишите функцию, которая принимает два слова и проверяет, что из букв первого слова можно составить второе слово."
      ]
    },
    {
      "cell_type": "code",
      "execution_count": null,
      "id": "e2b89d42-7c61-469f-bafa-02e32d6d8b3d",
      "metadata": {
        "id": "e2b89d42-7c61-469f-bafa-02e32d6d8b3d"
      },
      "outputs": [],
      "source": [
        "# my code here"
      ]
    },
    {
      "cell_type": "markdown",
      "id": "89eddc23-586f-419f-975f-9ca0ca5322db",
      "metadata": {
        "id": "89eddc23-586f-419f-975f-9ca0ca5322db"
      },
      "source": [
        "#### Задача 2.\n",
        "\n",
        "[Панграмма](https://ru.wikipedia.org/wiki/%D0%9F%D0%B0%D0%BD%D0%B3%D1%80%D0%B0%D0%BC%D0%BC%D0%B0) - это такое предложение, в котором все буквы алфавита встречаются по одному разу.\n",
        "\n",
        "Напишите функцию, которая будет принимать строку с предложением и проверять, что оно - панграмма.\n",
        "\n",
        "Примеры для проверки можете взять на википедии (ссылка выше)."
      ]
    },
    {
      "cell_type": "code",
      "execution_count": null,
      "id": "3b1f969c-2071-495d-873d-203243651163",
      "metadata": {
        "id": "3b1f969c-2071-495d-873d-203243651163"
      },
      "outputs": [],
      "source": [
        "def pangram(string):\n",
        "  # your code here\n",
        "\n",
        "assert pangram('Любя, съешь щипцы, — вздохнёт мэр, — кайф жгуч.') # если все правильно, ячейка отработает и ничего не выведет"
      ]
    },
    {
      "cell_type": "markdown",
      "id": "78d84957-8f5b-4836-8293-0df6c3d9c155",
      "metadata": {
        "id": "78d84957-8f5b-4836-8293-0df6c3d9c155"
      },
      "source": [
        "Напишем функции для вычисления формул комбинаторики из [этой шпаргалки](http://www.mathprofi.ru/formuly_kombinatoriki.pdf): нам понадобится написать:\n",
        "\n",
        "- Формула количества перестановок\n",
        "- Формула количества сочетаний\n",
        "- Формула количества размещений\n",
        "- Формула количества перестановок с повторениями\n",
        "- Формула количества сочетаний с повторениями\n",
        "- Формула количества размещений с повторениями"
      ]
    },
    {
      "cell_type": "code",
      "execution_count": null,
      "id": "189e9652-682e-4075-8f52-846963525447",
      "metadata": {
        "id": "189e9652-682e-4075-8f52-846963525447"
      },
      "outputs": [],
      "source": [
        "def factorial(n):\n",
        "  \"\"\"Факториал n\"\"\"\n",
        "  if n < 0:\n",
        "    return\n",
        "  if n == 0:\n",
        "    return 1\n",
        "  return n * factorial(n - 1)\n",
        "\n",
        "def P(n):\n",
        "  \"\"\"Формула количества перестановок\"\"\"\n",
        "  return factorial(n)"
      ]
    },
    {
      "cell_type": "code",
      "execution_count": null,
      "id": "fea27fb2-abc7-450f-b871-089cbbea7857",
      "metadata": {
        "id": "fea27fb2-abc7-450f-b871-089cbbea7857"
      },
      "outputs": [],
      "source": [
        "# my code here: формула количества размещений, формула количества перестановок с повторениями\n",
        "def A(n, m):\n",
        "    pass\n",
        "\n",
        "print(A(5, 2))"
      ]
    },
    {
      "cell_type": "markdown",
      "id": "f682d77b-c5dc-4f4a-af7c-930c03f5b527",
      "metadata": {
        "id": "f682d77b-c5dc-4f4a-af7c-930c03f5b527"
      },
      "source": [
        "#### Задача 3 (3 балла - за каждую функцию!)\n",
        "\n",
        "Допишите остальные формулы."
      ]
    },
    {
      "cell_type": "code",
      "execution_count": null,
      "id": "66e14ce8-c7e3-476b-8f5e-055b46f5c353",
      "metadata": {
        "id": "66e14ce8-c7e3-476b-8f5e-055b46f5c353"
      },
      "outputs": [],
      "source": [
        "def C(n, m):\n",
        "  # your code here\n",
        "\n",
        "def C_repeat(n, m):\n",
        "  # your code here\n",
        "\n",
        "def A_repeat(n, m):\n",
        "  # your code here\n",
        "\n",
        "assert all([C(10, 3) == 120, C_repeat(5, 4) == 70, A_repeat(5, 8) == 390625])"
      ]
    },
    {
      "cell_type": "markdown",
      "id": "4e7260ea-05c8-4f99-8821-2974ddf1628c",
      "metadata": {
        "id": "4e7260ea-05c8-4f99-8821-2974ddf1628c"
      },
      "source": [
        "Напишите функцию, которая будет возвращать площадь круга по его радиусу."
      ]
    },
    {
      "cell_type": "code",
      "execution_count": null,
      "id": "d5e6fcfb-29df-453e-a5cb-43dc7ec15b7d",
      "metadata": {
        "id": "d5e6fcfb-29df-453e-a5cb-43dc7ec15b7d"
      },
      "outputs": [],
      "source": [
        "# my code here"
      ]
    },
    {
      "cell_type": "markdown",
      "id": "4e1ac26f-6abd-4cea-9005-80c7415cab89",
      "metadata": {
        "id": "4e1ac26f-6abd-4cea-9005-80c7415cab89"
      },
      "source": [
        "#### Задача 4.\n",
        "\n",
        "Напишите функцию, которая будет вычислять площадь прямоугольника."
      ]
    },
    {
      "cell_type": "code",
      "execution_count": null,
      "id": "04b6a03e-cbfc-4168-a32f-555b91124bfc",
      "metadata": {
        "id": "04b6a03e-cbfc-4168-a32f-555b91124bfc"
      },
      "outputs": [],
      "source": [
        "def area(a, b):\n",
        "  # your code here"
      ]
    },
    {
      "cell_type": "markdown",
      "id": "32818966-106b-4f21-8f32-cbb3d01f3b51",
      "metadata": {
        "id": "32818966-106b-4f21-8f32-cbb3d01f3b51"
      },
      "source": [
        "Пользователь вводит текст, в котором встречаются английские слова (т.е. написанные латиницей). Напишите функцию, которая будет находить и печатать эти слова в столбик."
      ]
    },
    {
      "cell_type": "code",
      "execution_count": null,
      "id": "f6b23308-d508-470b-8e21-e7755b768047",
      "metadata": {
        "id": "f6b23308-d508-470b-8e21-e7755b768047"
      },
      "outputs": [],
      "source": [
        "# my code here\n",
        "def latin(string):\n",
        "    pass\n",
        "\n",
        "latin('These are my latin words ')"
      ]
    },
    {
      "cell_type": "markdown",
      "id": "fbc10b90-5ba7-4276-93c1-9f457ab77d02",
      "metadata": {
        "id": "fbc10b90-5ba7-4276-93c1-9f457ab77d02"
      },
      "source": [
        "#### Задача 5.\n",
        "\n",
        "Пользователь вводит текст, в котором встречаются цифры. Напишите функцию, которая будет находить цифры и печатать в столбик."
      ]
    },
    {
      "cell_type": "code",
      "execution_count": null,
      "id": "3e2273a1-ff5f-4ae9-a30d-45c4bb891606",
      "metadata": {
        "id": "3e2273a1-ff5f-4ae9-a30d-45c4bb891606"
      },
      "outputs": [],
      "source": [
        "def numbers(text):\n",
        "  # your code here\n",
        "\n",
        "# 12345 asdffg 234 == 12345, 234"
      ]
    },
    {
      "cell_type": "markdown",
      "id": "a2853a99-564f-4713-8648-ab3c448d1b64",
      "metadata": {
        "id": "a2853a99-564f-4713-8648-ab3c448d1b64"
      },
      "source": [
        "Напишите функцию для уравнения прямой. У функции должен быть один обязательный параметр и два необязательных (коэффициенты), которые по умолчанию равны единице."
      ]
    },
    {
      "cell_type": "code",
      "execution_count": null,
      "id": "d11a2a37-6832-458c-b5e4-f781c843778b",
      "metadata": {
        "id": "d11a2a37-6832-458c-b5e4-f781c843778b"
      },
      "outputs": [],
      "source": [
        "# my code here"
      ]
    },
    {
      "cell_type": "markdown",
      "id": "d6422308-8354-4971-83c2-68548ab3a270",
      "metadata": {
        "id": "d6422308-8354-4971-83c2-68548ab3a270"
      },
      "source": [
        "#### Задача 6.\n",
        "\n",
        "Напишите функцию, которая будет вычислять ваш балл за семестр (саму формулу мы уже закодили на самом первом занятии, но теперь задача - превратить ее в функцию). Эта функция должна принимать два обязательных числа: количество баллов за семинары и количество баллов за домашние задания. В самой функции общее количество баллов уже задано. Есть еще два необязательных числа: это коэффициенты, на которые мы домножаем баллы. Без необязаельных аргументов задача не принимается!\n",
        "\n",
        "Общая формула выглядит так:\n",
        "\n",
        "$(k_1 * sem_{real}/sem_{total} + k_2 * hw_{real} / hw_{total}) * 100$,\n",
        "\n",
        "где $k_1$ и $k_2$ - это коэффициенты. По умолчанию они равны 0.4 и 0.6 соответственно."
      ]
    },
    {
      "cell_type": "code",
      "execution_count": null,
      "id": "54d18b93-8f43-4061-91b8-4470fa234a84",
      "metadata": {
        "id": "54d18b93-8f43-4061-91b8-4470fa234a84"
      },
      "outputs": [],
      "source": [
        "def mypoints(...):\n",
        "  sem_total = 80 # числа указаны случайные :)\n",
        "  hw_total = 120\n",
        "  # your code here"
      ]
    },
    {
      "cell_type": "markdown",
      "id": "00dfce2f-876b-4d21-a5f2-07b05fb94fee",
      "metadata": {
        "id": "00dfce2f-876b-4d21-a5f2-07b05fb94fee"
      },
      "source": [
        "Нам нужно считать текст, который вводит человек, привести его к нижнему регистру и вывести индекс первой встретившейся буквы j. Нужно сделать это в одну строчку кода."
      ]
    },
    {
      "cell_type": "code",
      "execution_count": null,
      "id": "7a7cb6e0-322e-4b4a-b528-42257b279cb5",
      "metadata": {
        "id": "7a7cb6e0-322e-4b4a-b528-42257b279cb5"
      },
      "outputs": [],
      "source": [
        "# my code here"
      ]
    },
    {
      "cell_type": "markdown",
      "id": "7bbc437e-6db8-452c-b132-0e5b2ab61d11",
      "metadata": {
        "id": "7bbc437e-6db8-452c-b132-0e5b2ab61d11"
      },
      "source": [
        "#### Задача 7.\n",
        "\n",
        "Нам нужно считать текст, привести его к нижнему регистру и посчитать, сколько в нем букв j. Сделайте тоже в одну строчку."
      ]
    },
    {
      "cell_type": "code",
      "execution_count": null,
      "id": "d218d135-8258-4686-a8c4-ef7251feaad9",
      "metadata": {
        "id": "d218d135-8258-4686-a8c4-ef7251feaad9"
      },
      "outputs": [],
      "source": [
        "# your code here"
      ]
    },
    {
      "cell_type": "markdown",
      "id": "94d0d084-f026-46cc-bb68-82952910ce4b",
      "metadata": {
        "id": "94d0d084-f026-46cc-bb68-82952910ce4b"
      },
      "source": [
        "#### Задача 8.\n",
        "\n",
        "Нам нужно с помощью срезов разделить строчку из двух слов на две строчки по пробелу (мы подобное уже делали) и поменять эти слова местами. Сделайте это как можно более кратким способом, старайтесь завести как можно меньше переменных."
      ]
    },
    {
      "cell_type": "code",
      "execution_count": null,
      "id": "44bd33cf-b32a-471f-a092-cb473ff47561",
      "metadata": {
        "id": "44bd33cf-b32a-471f-a092-cb473ff47561"
      },
      "outputs": [],
      "source": [
        "# your code here"
      ]
    },
    {
      "cell_type": "markdown",
      "id": "cf7f3284-137d-49bc-b4fe-69a57ecbddb6",
      "metadata": {
        "id": "cf7f3284-137d-49bc-b4fe-69a57ecbddb6"
      },
      "source": [
        "#### Задача 9.\n",
        "\n",
        "Пользователь что-то вводит в строке. Напишите функцию проверки, которая будет пытаться из введенной строки вернуть слово без приклеившейся пунктуации, а если не получается, то вернет None.\n",
        "\n",
        "Например:\n",
        "\n",
        "    мама, => мама\n",
        "    красно-зеленый! => красно-зеленый\n",
        "    123! => None"
      ]
    },
    {
      "cell_type": "code",
      "execution_count": null,
      "id": "85987400-5ec4-4099-8853-fc9f30880be5",
      "metadata": {
        "id": "85987400-5ec4-4099-8853-fc9f30880be5"
      },
      "outputs": [],
      "source": [
        "def token(string):\n",
        "  # your code here\n",
        "\n",
        "assert all([token('мама,') == 'мама', token('красно-зеленый!') == 'красно-зеленый', token('123!') == None])"
      ]
    },
    {
      "cell_type": "markdown",
      "id": "72ac074e-f5a9-478a-9e60-6ef4584bec2b",
      "metadata": {
        "id": "72ac074e-f5a9-478a-9e60-6ef4584bec2b"
      },
      "source": [
        "#### Задача 10.\n",
        "\n",
        "Расширим функцию cyrillic, которая проверяет строчку на содержание кириллических букв: добавим необязательный параметр alphabet, который может быть cyr или lat, и в зависимости от этого параметра будем использовать разные алфавиты.\n",
        "\n",
        "Если сделаете в двух вариантах, получите доп. балл."
      ]
    },
    {
      "cell_type": "code",
      "execution_count": null,
      "id": "5290dec9-18a0-4521-b336-ff799b349b6a",
      "metadata": {
        "id": "5290dec9-18a0-4521-b336-ff799b349b6a"
      },
      "outputs": [],
      "source": [
        "def alphacheck(...):\n",
        "  # your code here\n",
        "\n",
        "assert all([alphacheck('абракадабра') == True,\n",
        "            alphacheck('abracadabra', alphabet='lat') == True,\n",
        "            alphacheck('123qwe', alphabet='lat') == False,\n",
        "            alphacheck('мама!', alphabet='cyr') == False])"
      ]
    },
    {
      "cell_type": "code",
      "execution_count": null,
      "id": "ba114130-c86c-49ed-8c6f-a5f51c68701c",
      "metadata": {
        "id": "ba114130-c86c-49ed-8c6f-a5f51c68701c"
      },
      "outputs": [],
      "source": [
        "a, b = 1, 2"
      ]
    }
  ],
  "metadata": {
    "kernelspec": {
      "display_name": "Python 3 (ipykernel)",
      "language": "python",
      "name": "python3"
    },
    "language_info": {
      "codemirror_mode": {
        "name": "ipython",
        "version": 3
      },
      "file_extension": ".py",
      "mimetype": "text/x-python",
      "name": "python",
      "nbconvert_exporter": "python",
      "pygments_lexer": "ipython3",
      "version": "3.11.5"
    },
    "colab": {
      "provenance": []
    }
  },
  "nbformat": 4,
  "nbformat_minor": 5
}