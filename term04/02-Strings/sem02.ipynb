{
  "cells": [
    {
      "cell_type": "markdown",
      "id": "057901d2-93bf-4865-a3c7-ef29f39bd8d5",
      "metadata": {
        "id": "057901d2-93bf-4865-a3c7-ef29f39bd8d5"
      },
      "source": [
        "#### Задача 1.\n",
        "\n",
        "Пользователь вводит строчку, в которой попадаются символы \"@\". Нужно удалить все такие символы."
      ]
    },
    {
      "cell_type": "code",
      "execution_count": 4,
      "id": "64a85dae-f43c-4e0e-b900-92099cf6a782",
      "metadata": {
        "colab": {
          "base_uri": "https://localhost:8080/",
          "height": 52
        },
        "id": "64a85dae-f43c-4e0e-b900-92099cf6a782",
        "outputId": "090799f0-0484-4da9-f83a-3298779e7a1a"
      },
      "outputs": [
        {
          "name": "stdout",
          "output_type": "stream",
          "text": [
            "dcwecq@\n"
          ]
        },
        {
          "output_type": "execute_result",
          "data": {
            "text/plain": [
              "'dcwecq'"
            ],
            "application/vnd.google.colaboratory.intrinsic+json": {
              "type": "string"
            }
          },
          "metadata": {},
          "execution_count": 4
        }
      ],
      "source": [
        "# your code here\n",
        "a = input()\n",
        "b = a.replace ('@', '')\n",
        "b\n",
        "\n"
      ]
    },
    {
      "cell_type": "markdown",
      "id": "7aca1815-ca3c-4404-9dde-d127a74a6eb1",
      "metadata": {
        "id": "7aca1815-ca3c-4404-9dde-d127a74a6eb1"
      },
      "source": [
        "#### Задача 2.\n",
        "\n",
        "Пользователь ввел несколько слов, разделенных пробелами. Посчитайте количество слов в строке (если знаете несколько способов - сделайте это несколькими способами)."
      ]
    },
    {
      "cell_type": "code",
      "execution_count": 31,
      "id": "976e3d75-8416-4c84-a2c5-9fde10d390c0",
      "metadata": {
        "colab": {
          "base_uri": "https://localhost:8080/"
        },
        "id": "976e3d75-8416-4c84-a2c5-9fde10d390c0",
        "outputId": "bf53111d-0dd7-46a0-b049-3834eba201db"
      },
      "outputs": [
        {
          "output_type": "stream",
          "name": "stdout",
          "text": [
            "wa si cu\n",
            "10\n"
          ]
        }
      ],
      "source": [
        "# your code here\n",
        "a = input()\n",
        "b = a.count('')\n",
        "print(b + 1)\n"
      ]
    },
    {
      "cell_type": "markdown",
      "id": "a37abcb4-fb0a-4608-87b1-2f06a0faebaa",
      "metadata": {
        "id": "a37abcb4-fb0a-4608-87b1-2f06a0faebaa"
      },
      "source": [
        "#### Задача 3.\n",
        "\n",
        "Пользователь вводит некий инфинитив глагола. Программа должна проверить, заканчивается ли глагол на -ся и содержит ли он приставку \"пере\" (т.е., начинается с нее). Можно использовать методы, а можно срезы."
      ]
    },
    {
      "cell_type": "code",
      "execution_count": 18,
      "id": "0ba49a97-fb56-48cf-a625-bbf94968eb44",
      "metadata": {
        "colab": {
          "base_uri": "https://localhost:8080/"
        },
        "id": "0ba49a97-fb56-48cf-a625-bbf94968eb44",
        "outputId": "ab350fde-2f19-4f65-f98a-9c7506f1a1d9"
      },
      "outputs": [
        {
          "output_type": "stream",
          "name": "stdout",
          "text": [
            "перестать\n",
            "no\n"
          ]
        }
      ],
      "source": [
        "# your code here\n",
        "i = input()\n",
        "if i.startswith('пере') and i.endswith('ся'):\n",
        "  print('yes')\n",
        "else:\n",
        "  print('no')"
      ]
    },
    {
      "cell_type": "markdown",
      "id": "cc30d2fa-2ddb-494e-abad-d56766b97c60",
      "metadata": {
        "id": "cc30d2fa-2ddb-494e-abad-d56766b97c60"
      },
      "source": [
        "#### Задача 4.\n",
        "\n",
        "Дано положительное действительное число X. Выведите его первую цифру после десятичной точки, используя методы строк."
      ]
    },
    {
      "cell_type": "code",
      "execution_count": 33,
      "id": "3f8e2fa0-63aa-4453-8103-e530aa31f892",
      "metadata": {
        "colab": {
          "base_uri": "https://localhost:8080/",
          "height": 224
        },
        "id": "3f8e2fa0-63aa-4453-8103-e530aa31f892",
        "outputId": "ed918c8b-b075-4213-ebce-4090242bec65"
      },
      "outputs": [
        {
          "name": "stdout",
          "output_type": "stream",
          "text": [
            "23.445\n"
          ]
        },
        {
          "output_type": "error",
          "ename": "TypeError",
          "evalue": "'str' object is not callable",
          "traceback": [
            "\u001b[0;31m---------------------------------------------------------------------------\u001b[0m",
            "\u001b[0;31mTypeError\u001b[0m                                 Traceback (most recent call last)",
            "\u001b[0;32m<ipython-input-33-b290da9b6641>\u001b[0m in \u001b[0;36m<cell line: 0>\u001b[0;34m()\u001b[0m\n\u001b[1;32m      2\u001b[0m \u001b[0mx\u001b[0m \u001b[0;34m=\u001b[0m \u001b[0minput\u001b[0m\u001b[0;34m(\u001b[0m\u001b[0;34m)\u001b[0m\u001b[0;34m\u001b[0m\u001b[0;34m\u001b[0m\u001b[0m\n\u001b[1;32m      3\u001b[0m \u001b[0mx_str\u001b[0m \u001b[0;34m=\u001b[0m \u001b[0mstr\u001b[0m\u001b[0;34m(\u001b[0m\u001b[0mx\u001b[0m\u001b[0;34m)\u001b[0m\u001b[0;34m\u001b[0m\u001b[0;34m\u001b[0m\u001b[0m\n\u001b[0;32m----> 4\u001b[0;31m \u001b[0ma\u001b[0m \u001b[0;34m=\u001b[0m \u001b[0mx_str\u001b[0m\u001b[0;34m(\u001b[0m\u001b[0;34m'.'\u001b[0m\u001b[0;34m)\u001b[0m\u001b[0;34m\u001b[0m\u001b[0;34m\u001b[0m\u001b[0m\n\u001b[0m\u001b[1;32m      5\u001b[0m \u001b[0mb\u001b[0m \u001b[0;34m=\u001b[0m \u001b[0mx_str\u001b[0m \u001b[0;34m+\u001b[0m \u001b[0;36m1\u001b[0m\u001b[0;34m\u001b[0m\u001b[0;34m\u001b[0m\u001b[0m\n\u001b[1;32m      6\u001b[0m \u001b[0mb\u001b[0m\u001b[0;34m\u001b[0m\u001b[0;34m\u001b[0m\u001b[0m\n",
            "\u001b[0;31mTypeError\u001b[0m: 'str' object is not callable"
          ]
        }
      ],
      "source": [
        "# your code here\n",
        "x = input()\n",
        "\n"
      ]
    },
    {
      "cell_type": "markdown",
      "id": "63d7bb4c-dbd4-4915-9823-d1974436f76d",
      "metadata": {
        "id": "63d7bb4c-dbd4-4915-9823-d1974436f76d"
      },
      "source": [
        "#### Задача 5.\n",
        "\n",
        "Пользователь вводит предложение (с пробелами, но без пунктуации). Проверьте, является ли это предложение палиндромом. Для тестирования можно использовать:\n",
        "\n",
        "    Аргентина манит негра\n",
        "    А роза упала на лапу Азора"
      ]
    },
    {
      "cell_type": "code",
      "execution_count": null,
      "id": "b77393ff-3b72-4c64-a73d-c01098f15dd6",
      "metadata": {
        "id": "b77393ff-3b72-4c64-a73d-c01098f15dd6"
      },
      "outputs": [],
      "source": [
        "# your code here"
      ]
    },
    {
      "cell_type": "markdown",
      "id": "a12fd71a-f6b5-4afa-a0cf-50bb53b0d33e",
      "metadata": {
        "id": "a12fd71a-f6b5-4afa-a0cf-50bb53b0d33e"
      },
      "source": [
        "#### Задача 6.\n",
        "\n",
        "Пользователь вводит любое число n. Программа должна вернуть строчку \"n корова\", причем слово \"корова\" должно согласоваться с числом: 1 корова, но 5 коров.  "
      ]
    },
    {
      "cell_type": "code",
      "execution_count": 36,
      "id": "596aafad-2e45-4b00-b0bb-290cb66229dd",
      "metadata": {
        "colab": {
          "base_uri": "https://localhost:8080/",
          "height": 105
        },
        "id": "596aafad-2e45-4b00-b0bb-290cb66229dd",
        "outputId": "bb73bfd4-4d15-458b-a8dd-6c45b17ae97f"
      },
      "outputs": [
        {
          "output_type": "error",
          "ename": "SyntaxError",
          "evalue": "invalid syntax. Perhaps you forgot a comma? (<ipython-input-36-e96f687f0dfc>, line 4)",
          "traceback": [
            "\u001b[0;36m  File \u001b[0;32m\"<ipython-input-36-e96f687f0dfc>\"\u001b[0;36m, line \u001b[0;32m4\u001b[0m\n\u001b[0;31m    print(n корова)\u001b[0m\n\u001b[0m          ^\u001b[0m\n\u001b[0;31mSyntaxError\u001b[0m\u001b[0;31m:\u001b[0m invalid syntax. Perhaps you forgot a comma?\n"
          ]
        }
      ],
      "source": [
        "# your code here\n",
        "n = input()\n",
        "if n.endswith('1'):\n",
        "  print(n корова)\n",
        "elif n.endswith('2') or n.endswith('3') or n.endswith('4'):\n",
        "  print(n коровы)\n",
        "elif n.endswith('5') or n.endswith('6') or  n.endswith('7') or n.endswith('8') or n.endswith('9'):\n",
        "  print(n коров)"
      ]
    }
  ],
  "metadata": {
    "kernelspec": {
      "display_name": "Python 3 (ipykernel)",
      "language": "python",
      "name": "python3"
    },
    "language_info": {
      "codemirror_mode": {
        "name": "ipython",
        "version": 3
      },
      "file_extension": ".py",
      "mimetype": "text/x-python",
      "name": "python",
      "nbconvert_exporter": "python",
      "pygments_lexer": "ipython3",
      "version": "3.9.12"
    },
    "colab": {
      "provenance": []
    }
  },
  "nbformat": 4,
  "nbformat_minor": 5
}