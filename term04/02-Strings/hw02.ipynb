{
  "cells": [
    {
      "cell_type": "markdown",
      "id": "12bb5a4a-6476-4ce6-82c5-d3222eb410a0",
      "metadata": {
        "id": "12bb5a4a-6476-4ce6-82c5-d3222eb410a0"
      },
      "source": [
        "#### Задача 1.\n",
        "\n",
        "Вам нужно написать программу, которая принимает на вход имя пользователя и генерирует для него \"секретный код\". Код создаётся на основе имени с использованием методов строк.  \n",
        "\n",
        "Правила формирования кода:\n",
        "\n",
        "1. Возьмите последнюю букву имени.  \n",
        "2. Переведите её в верхний регистр.  \n",
        "3. Узнайте её порядковый номер в алфавите (например, для А это 1, для Б — 2 и т. д.).  \n",
        "4. Умножьте этот номер на длину имени.  \n",
        "5. Добавьте в конец полученного числа три первые буквы имени в нижнем регистре.  \n",
        "\n",
        "Входные данные:\n",
        "\n",
        "Одна строка — имя пользователя.  \n",
        "\n",
        "Выходные данные:  \n",
        "\n",
        "Секретный код, сформированный по описанным правилам.  \n",
        "\n",
        "Пример работы программы:  \n",
        "\n",
        "Вход:\n",
        "\n",
        "Алексей\n",
        "\n",
        "Промежуточные шаги:\n",
        "\n",
        "- Последняя буква: й  \n",
        "- В верхнем регистре: Й  \n",
        "- Порядковый номер (Й — 11-я буква алфавита): 11  \n",
        "- Умножаем на длину имени (7): 11 × 7 = 7  \n",
        "- Первые три буквы имени: але  \n",
        "- Результат: 77але  \n",
        "\n",
        "Выход:  \n",
        "\n",
        "Твой секретный код: 77але"
      ]
    },
    {
      "cell_type": "code",
      "execution_count": 3,
      "id": "7411542a-8251-4453-9540-fa59821d3d20",
      "metadata": {
        "colab": {
          "base_uri": "https://localhost:8080/",
          "height": 224
        },
        "id": "7411542a-8251-4453-9540-fa59821d3d20",
        "outputId": "e1324f5e-67e4-4e42-8461-f0fe2474d900"
      },
      "outputs": [
        {
          "name": "stdout",
          "output_type": "stream",
          "text": [
            "Надин\n"
          ]
        },
        {
          "output_type": "error",
          "ename": "TypeError",
          "evalue": "must be str, not builtin_function_or_method",
          "traceback": [
            "\u001b[0;31m---------------------------------------------------------------------------\u001b[0m",
            "\u001b[0;31mTypeError\u001b[0m                                 Traceback (most recent call last)",
            "\u001b[0;32m<ipython-input-3-4588c022485a>\u001b[0m in \u001b[0;36m<cell line: 0>\u001b[0;34m()\u001b[0m\n\u001b[1;32m      7\u001b[0m \u001b[0;31m#Узнайте её порядковый номер в алфавите\u001b[0m\u001b[0;34m\u001b[0m\u001b[0;34m\u001b[0m\u001b[0m\n\u001b[1;32m      8\u001b[0m \u001b[0malphabet\u001b[0m \u001b[0;34m=\u001b[0m \u001b[0;34m'АБВГДЕЁЖЗИЙКЛМНОПРСТУФХЦЧШЩЪЫЬЭЮЯ'\u001b[0m\u001b[0;34m\u001b[0m\u001b[0;34m\u001b[0m\u001b[0m\n\u001b[0;32m----> 9\u001b[0;31m \u001b[0mnumber\u001b[0m \u001b[0;34m=\u001b[0m \u001b[0malphabet\u001b[0m\u001b[0;34m.\u001b[0m\u001b[0mindex\u001b[0m\u001b[0;34m(\u001b[0m\u001b[0mc\u001b[0m\u001b[0;34m)\u001b[0m \u001b[0;34m+\u001b[0m \u001b[0;36m1\u001b[0m\u001b[0;34m\u001b[0m\u001b[0;34m\u001b[0m\u001b[0m\n\u001b[0m\u001b[1;32m     10\u001b[0m \u001b[0;31m#Умножьте этот номер на длину имени\u001b[0m\u001b[0;34m\u001b[0m\u001b[0;34m\u001b[0m\u001b[0m\n\u001b[1;32m     11\u001b[0m \u001b[0mnumber2\u001b[0m \u001b[0;34m=\u001b[0m \u001b[0mnumber\u001b[0m \u001b[0;34m*\u001b[0m \u001b[0mlen\u001b[0m\u001b[0;34m(\u001b[0m\u001b[0ma\u001b[0m\u001b[0;34m)\u001b[0m\u001b[0;34m\u001b[0m\u001b[0;34m\u001b[0m\u001b[0m\n",
            "\u001b[0;31mTypeError\u001b[0m: must be str, not builtin_function_or_method"
          ]
        }
      ],
      "source": [
        "# your code here\n",
        "a = input()\n",
        "#Возьмите последнюю букву имени\n",
        "b = a[-1]\n",
        "#Переведите её в верхний регистр\n",
        "c = b.upper\n",
        "#Узнайте её порядковый номер в алфавите\n",
        "alphabet = 'АБВГДЕЁЖЗИЙКЛМНОПРСТУФХЦЧШЩЪЫЬЭЮЯ'\n",
        "number = alphabet.index(c) + 1\n",
        "#Умножьте этот номер на длину имени\n",
        "number2 = number * len(a)\n",
        "#Добавьте в конец 3 первые буквы имени в нижнем регистре\n",
        "final = a[:3].lower()\n",
        "#Формируем секретный код\n",
        "scr = f\"{number2}{final}\"\n",
        "return scr"
      ]
    },
    {
      "cell_type": "markdown",
      "id": "95892d08-3546-42ae-875a-319d6083e067",
      "metadata": {
        "id": "95892d08-3546-42ae-875a-319d6083e067"
      },
      "source": [
        "#### Задача 2.\n",
        "\n",
        "Вам нужно написать программу, которая принимает на вход предложение и заменяет в нём некоторые слова на смайлики.  \n",
        "\n",
        "Правила замены:  \n",
        "\n",
        "- \"рад\" → \"😊\"  \n",
        "- \"грусть\" → \"😢\"  \n",
        "- \"смешно\" → \"😂\"  \n",
        "- \"удивлён\" → \"😲\"  \n",
        "\n",
        "Если в предложении есть указанные слова, программа должна заменить их соответствующими смайликами (Питон умеет работать со смайликами! Можете просто скопировать их в код).\n",
        "\n",
        "Пример работы программы:  \n",
        "\n",
        "Вход:  \n",
        "\n",
        "Я рад, но немного удивлён!\n",
        "\n",
        "Выход:  \n",
        "\n",
        "Я 😊, но немного 😲!"
      ]
    },
    {
      "cell_type": "code",
      "execution_count": 7,
      "id": "9ba8d83a-1671-4af9-a691-78849c4ff613",
      "metadata": {
        "tags": [],
        "colab": {
          "base_uri": "https://localhost:8080/",
          "height": 52
        },
        "id": "9ba8d83a-1671-4af9-a691-78849c4ff613",
        "outputId": "3d7a6b37-c5ac-4c76-ffcf-7dfca405b7c6"
      },
      "outputs": [
        {
          "name": "stdout",
          "output_type": "stream",
          "text": [
            "Я рад, но смешно\n"
          ]
        },
        {
          "output_type": "execute_result",
          "data": {
            "text/plain": [
              "'Я 😊, но 😂'"
            ],
            "application/vnd.google.colaboratory.intrinsic+json": {
              "type": "string"
            }
          },
          "metadata": {},
          "execution_count": 7
        }
      ],
      "source": [
        "# your code here\n",
        "a = input()\n",
        "b = a.replace('рад', '😊').replace('грусть', '😢')\\\n",
        ".replace('смешно', '😂').replace('удивлён', '😲')\n",
        "b"
      ]
    },
    {
      "cell_type": "markdown",
      "id": "40306261-7387-45f1-b193-e6be4f7eb09c",
      "metadata": {
        "id": "40306261-7387-45f1-b193-e6be4f7eb09c"
      },
      "source": [
        "#### Задача 3.\n",
        "\n",
        "Пользователь вводит строчку. Наша задача - вернуть ее задом наперед (н-р, \"йцукен\" должно превратиться в \"некуцй\"). Используйте срезы."
      ]
    },
    {
      "cell_type": "code",
      "execution_count": 3,
      "id": "a0cb7788-ed1e-4b85-882e-8bc874d0bbd7",
      "metadata": {
        "colab": {
          "base_uri": "https://localhost:8080/",
          "height": 52
        },
        "id": "a0cb7788-ed1e-4b85-882e-8bc874d0bbd7",
        "outputId": "469404a8-adbe-4d93-8cc3-d794d1408e4b"
      },
      "outputs": [
        {
          "name": "stdout",
          "output_type": "stream",
          "text": [
            "Введите строку:qwdihp;evuqhye\n"
          ]
        },
        {
          "output_type": "execute_result",
          "data": {
            "text/plain": [
              "'eyhquve;phidwq'"
            ],
            "application/vnd.google.colaboratory.intrinsic+json": {
              "type": "string"
            }
          },
          "metadata": {},
          "execution_count": 3
        }
      ],
      "source": [
        "# your code here\n",
        "s = input('Введите строку:')\n",
        "t = s[::-1]\n",
        "t"
      ]
    },
    {
      "cell_type": "markdown",
      "id": "1c3785ef-25aa-475f-b6ac-a42520e54746",
      "metadata": {
        "id": "1c3785ef-25aa-475f-b6ac-a42520e54746"
      },
      "source": [
        "#### Задача 4.\n",
        "\n",
        "Дана строка. Разрежьте ее на две равные части (если длина строки — четная, а если длина строки нечетная, то длина первой части должна быть на один символ больше). Переставьте эти две части местами, результат запишите в новую строку и выведите на экран."
      ]
    },
    {
      "cell_type": "code",
      "execution_count": 2,
      "id": "63651424-f251-44ab-87d1-32a55e753813",
      "metadata": {
        "colab": {
          "base_uri": "https://localhost:8080/"
        },
        "id": "63651424-f251-44ab-87d1-32a55e753813",
        "outputId": "bec692cc-ef27-47e4-a96f-4973ffcd8818"
      },
      "outputs": [
        {
          "output_type": "stream",
          "name": "stdout",
          "text": [
            "wrnv7hwerg2\n",
            "werg2wrnv7h\n"
          ]
        }
      ],
      "source": [
        "# your code here\n",
        "a = input()\n",
        "l = len(a)\n",
        "b = (l + 1) // 2\n",
        "#Разрежьте ее на две равные части\n",
        "first_part = a[:b]\n",
        "second_part = a[b:]\n",
        "#concatenation\n",
        "c = second_part + first_part\n",
        "print (c)"
      ]
    },
    {
      "cell_type": "markdown",
      "id": "9d25ac51-b920-425b-85d5-8ebb234f2b4d",
      "metadata": {
        "id": "9d25ac51-b920-425b-85d5-8ebb234f2b4d"
      },
      "source": [
        "#### Задача 5.\n",
        "\n",
        "Дана строка, состоящая ровно из двух слов, разделенных пробелом. Переставьте эти слова местами. Результат запишите в строку и выведите получившуюся строку. Если знаете два способа, напишите двумя способами, но по второму будьте готовы отвечать на вопросы :)"
      ]
    },
    {
      "cell_type": "code",
      "execution_count": 9,
      "id": "e1b67595-a918-4d4e-b970-b54ca7018429",
      "metadata": {
        "colab": {
          "base_uri": "https://localhost:8080/"
        },
        "id": "e1b67595-a918-4d4e-b970-b54ca7018429",
        "outputId": "2c3b9697-9ded-4891-8c03-f38f0d02d5c8"
      },
      "outputs": [
        {
          "output_type": "stream",
          "name": "stdout",
          "text": [
            "тир кот\n",
            "кот тир\n"
          ]
        }
      ],
      "source": [
        "# your code here\n",
        "a = input()\n",
        "b = a.split()\n",
        "if len(b) == 2:\n",
        "  c = b[1] + ' ' + b[0]\n",
        "  print (c)\n",
        "else:\n",
        "  print ('Строка должна состоять ровно из 2 слов')"
      ]
    },
    {
      "cell_type": "markdown",
      "id": "02293832-374f-467b-955c-8c13a24d34cf",
      "metadata": {
        "id": "02293832-374f-467b-955c-8c13a24d34cf"
      },
      "source": [
        "#### Задача 6.\n",
        "\n",
        "Секретная организация выдаёт своим агентам кодовые имена. Вашей задачей будет написать программу, которая по настоящему имени создаст кодовое имя.  \n",
        "\n",
        "Правила генерации:  \n",
        "\n",
        "1. Удалите все гласные (а, е, ё, и, о, у, ы, э, ю, я) из имени.  \n",
        "2. Возьмите оставшиеся буквы и переверните их.  \n",
        "3. Сделайте первую букву нового имени заглавной.  \n",
        "\n",
        "Пример работы программы:  \n",
        "\n",
        "Вход:  \n",
        "\n",
        "Александр  \n",
        "\n",
        "Промежуточные шаги:\n",
        "\n",
        "- Без гласных: лксндр  \n",
        "- Зеркально: рднскл  \n",
        "- Первая буква заглавная: Рднскл  \n",
        "\n",
        "Выход:  \n",
        "\n",
        "Твоё кодовое имя: Рднскл"
      ]
    },
    {
      "cell_type": "code",
      "execution_count": 12,
      "id": "62d441b0-3237-40b7-9163-b92d9bf12702",
      "metadata": {
        "colab": {
          "base_uri": "https://localhost:8080/",
          "height": 52
        },
        "id": "62d441b0-3237-40b7-9163-b92d9bf12702",
        "outputId": "62c3dcc0-b2fa-4ad2-eee4-8c0d02d6b7fa"
      },
      "outputs": [
        {
          "name": "stdout",
          "output_type": "stream",
          "text": [
            "АЛЕКСАНДР\n"
          ]
        },
        {
          "output_type": "execute_result",
          "data": {
            "text/plain": [
              "'АДНАСКЕЛА'"
            ],
            "application/vnd.google.colaboratory.intrinsic+json": {
              "type": "string"
            }
          },
          "metadata": {},
          "execution_count": 12
        }
      ],
      "source": [
        "# your code here\n",
        "a = input()\n",
        "#Удалите все гласные (а, е, ё, и, о, у, ы, э, ю, я) из имени\n",
        "alphabet = 'АБВГДЕЁЖЗИЙКЛМНОПРСТУФХЦЧШЩЪЫЬЭЮЯ'\n",
        "b = a.replace('АЕЁИОУЫЭЮЯ', '')\n",
        "#Возьмите оставшиеся буквы и переверните их\n",
        "c = b[::-1]\n",
        "#Сделайте первую букву нового имени заглавной\n",
        "final = a[0].upper() + c[1:]\n",
        "final"
      ]
    },
    {
      "cell_type": "markdown",
      "id": "ff719f25-a59a-4e36-8bb2-1874ec0a79c6",
      "metadata": {
        "id": "ff719f25-a59a-4e36-8bb2-1874ec0a79c6"
      },
      "source": [
        "#### Задача 7.\n",
        "\n",
        "Хакеры украли базу данных паролей, но перед отправкой зашифровали её, смешав части паролей между собой. Вам нужно восстановить пароль, зная, как именно его перемешали.  \n",
        "\n",
        "Условия:  \n",
        "\n",
        "1. На вход подаётся одна строка — зашифрованный пароль.  \n",
        "2. Настоящий пароль состоит из:  \n",
        "   - Первой половины зашифрованного пароля в обратном порядке.  \n",
        "   - Второй половины зашифрованного пароля без изменений.  \n",
        "3. Если длина пароля нечётная, первую половину берём с округлением вниз.  \n",
        "\n",
        "Пример работы программы:  \n",
        "\n",
        "Вход:  \n",
        "\n",
        "abcdef  \n",
        "\n",
        "Промежуточные шаги:  \n",
        "\n",
        "- Первая половина: abc → в обратном порядке: cba  \n",
        "- Вторая половина: def (без изменений)  \n",
        "- Итоговый пароль: cbadef  \n",
        "\n",
        "Выход:\n",
        "\n",
        "cbadef  "
      ]
    },
    {
      "cell_type": "code",
      "execution_count": 7,
      "id": "91da8bf8-bff6-47b6-9ee3-d51a4a25cb62",
      "metadata": {
        "colab": {
          "base_uri": "https://localhost:8080/"
        },
        "id": "91da8bf8-bff6-47b6-9ee3-d51a4a25cb62",
        "outputId": "3670b677-5705-4c3d-bd8d-f8fbf9f45b2a"
      },
      "outputs": [
        {
          "output_type": "stream",
          "name": "stdout",
          "text": [
            "abcdef\n",
            "cbadef\n"
          ]
        }
      ],
      "source": [
        "# your code here\n",
        "mixed_psswrd = input()\n",
        "l = len(mixed_psswrd)\n",
        "half = l // 2\n",
        "part1 = mixed_psswrd[:half]\n",
        "part2 = mixed_psswrd[half:]\n",
        "reversed_part1 = part1[::-1]\n",
        "new_psswrd = reversed_part1 + part2\n",
        "print(new_psswrd)"
      ]
    },
    {
      "cell_type": "markdown",
      "id": "670e4941-c0f1-4419-be51-1f8c3762a356",
      "metadata": {
        "id": "670e4941-c0f1-4419-be51-1f8c3762a356"
      },
      "source": [
        "#### Задача 8.\n",
        "\n",
        "Шпионский отдел потерял важное слово в зашифрованном сообщении. Вам нужно помочь найти его и сообщить его позицию!  \n",
        "\n",
        "Условия:  \n",
        "\n",
        "1. На вход подаётся строка — зашифрованное сообщение.  \n",
        "2. В этом сообщении спрятано слово \"ключ\".  \n",
        "3. Ваша задача — найти первую букву этого слова и вывести её позицию (нумерация с 1).  \n",
        "4. Если слово \"ключ\" не найдено, программа должна вывести \"Ключ не найден\".  \n",
        "\n",
        "Пример работы программы:  \n",
        "\n",
        "Вход 1:  \n",
        "\n",
        "В этом тексте спрятан ключ от сейфа.  \n",
        "\n",
        "Выход 1:  \n",
        "\n",
        "23  \n",
        "\n",
        "\n",
        "Вход 2:  \n",
        "\n",
        "Здесь нет никакого секрета.  \n",
        "\n",
        "Выход 2:  \n",
        "\n",
        "Ключ не найден  "
      ]
    },
    {
      "cell_type": "code",
      "execution_count": null,
      "id": "b70b3d56-b952-48b9-96a7-0f51e8f02d23",
      "metadata": {
        "id": "b70b3d56-b952-48b9-96a7-0f51e8f02d23"
      },
      "outputs": [],
      "source": [
        "# your code here\n"
      ]
    },
    {
      "cell_type": "markdown",
      "id": "5bfd0835-816f-4b63-924a-6b8ffc450f84",
      "metadata": {
        "id": "5bfd0835-816f-4b63-924a-6b8ffc450f84"
      },
      "source": [
        "#### Задача 9.\n",
        "\n",
        "Дана строка, в которой буква h встречается как минимум два раза. Разверните последовательность символов, заключенную между первым и последним появлением буквы h, в противоположном порядке.\n",
        "\n",
        "Пример:\n",
        "\n",
        "In the hole there lived a hobbit.\n",
        "\n",
        "Результат:\n",
        "\n",
        "In th a devil ereht eloh ehobbit."
      ]
    },
    {
      "cell_type": "code",
      "execution_count": 4,
      "id": "41626b06-dd63-44d6-95b4-4e745d3b1ec5",
      "metadata": {
        "tags": [],
        "colab": {
          "base_uri": "https://localhost:8080/",
          "height": 105
        },
        "id": "41626b06-dd63-44d6-95b4-4e745d3b1ec5",
        "outputId": "37889a7d-8fc7-4e76-be85-1c38744b0953"
      },
      "outputs": [
        {
          "output_type": "error",
          "ename": "IndentationError",
          "evalue": "unindent does not match any outer indentation level (<tokenize>, line 6)",
          "traceback": [
            "\u001b[0;36m  File \u001b[0;32m\"<tokenize>\"\u001b[0;36m, line \u001b[0;32m6\u001b[0m\n\u001b[0;31m    if h1 != h2:\u001b[0m\n\u001b[0m    ^\u001b[0m\n\u001b[0;31mIndentationError\u001b[0m\u001b[0;31m:\u001b[0m unindent does not match any outer indentation level\n"
          ]
        }
      ],
      "source": [
        "# your code here\n",
        "s = input()\n",
        "def h(s):\n",
        "  h1 = s.find('h')\n",
        "  h2 = s.rfind('h')\n",
        " if h1 != h2:\n",
        "  reverse = s[h1 + 1:h2]\n",
        "  reverse2 = reverse[::-1]\n",
        "\n",
        "  result = s[:h1 + 1] + reverse2 + s[h2:]\n",
        "  return result\n",
        "  else:\n",
        "    return s"
      ]
    },
    {
      "cell_type": "markdown",
      "id": "96ae2098-dc1f-4b2a-adcf-57a76d1ca64c",
      "metadata": {
        "id": "96ae2098-dc1f-4b2a-adcf-57a76d1ca64c"
      },
      "source": [
        "#### Задача 10.\n",
        "\n",
        "Дана строка. Замените в этой строке все появления буквы h на букву H, кроме первого и последнего вхождения."
      ]
    },
    {
      "cell_type": "code",
      "execution_count": 12,
      "id": "898c8d3a-1555-48d9-b0af-763f2617434d",
      "metadata": {
        "colab": {
          "base_uri": "https://localhost:8080/",
          "height": 105
        },
        "id": "898c8d3a-1555-48d9-b0af-763f2617434d",
        "outputId": "15429310-a156-4110-9b7f-453d84c59b8a"
      },
      "outputs": [
        {
          "output_type": "error",
          "ename": "IndentationError",
          "evalue": "expected an indented block after 'if' statement on line 5 (<ipython-input-12-a522b511993d>, line 6)",
          "traceback": [
            "\u001b[0;36m  File \u001b[0;32m\"<ipython-input-12-a522b511993d>\"\u001b[0;36m, line \u001b[0;32m6\u001b[0m\n\u001b[0;31m    b = (a[:first + 1] + a[first + 1:last].replace('h', 'H') + a[last:])\u001b[0m\n\u001b[0m    ^\u001b[0m\n\u001b[0;31mIndentationError\u001b[0m\u001b[0;31m:\u001b[0m expected an indented block after 'if' statement on line 5\n"
          ]
        }
      ],
      "source": [
        "# your code here\n",
        "a = input()\n",
        "first = a.find('h')\n",
        "last = a.rfind('h')\n",
        "if first != last:\n",
        "b = (a[:first + 1] + a[first + 1:last].replace('h', 'H') + a[last:])\n",
        "else: #если h в строке не появилось\n",
        "b = a.replace('h', 'H')\n",
        "print(b)"
      ]
    }
  ],
  "metadata": {
    "kernelspec": {
      "display_name": "Python 3 (ipykernel)",
      "language": "python",
      "name": "python3"
    },
    "language_info": {
      "codemirror_mode": {
        "name": "ipython",
        "version": 3
      },
      "file_extension": ".py",
      "mimetype": "text/x-python",
      "name": "python",
      "nbconvert_exporter": "python",
      "pygments_lexer": "ipython3",
      "version": "3.11.5"
    },
    "colab": {
      "provenance": []
    }
  },
  "nbformat": 4,
  "nbformat_minor": 5
}