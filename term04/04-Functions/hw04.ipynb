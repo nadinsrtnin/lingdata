{
  "cells": [
    {
      "cell_type": "markdown",
      "id": "fb0eb8fc-2ec3-404e-bd49-bb194ab99d36",
      "metadata": {
        "id": "fb0eb8fc-2ec3-404e-bd49-bb194ab99d36"
      },
      "source": [
        "#### Задача 1.\n",
        "\n",
        "Напишите функцию, которая делает то же, что функция в семинарской задаче 1, но используйте рекурсию."
      ]
    },
    {
      "cell_type": "code",
      "execution_count": 2,
      "id": "f94da827-50f3-4bd9-82c5-c6913681f285",
      "metadata": {
        "id": "f94da827-50f3-4bd9-82c5-c6913681f285",
        "colab": {
          "base_uri": "https://localhost:8080/"
        },
        "outputId": "d2136b13-9c94-4328-fe14-27f35c88f121"
      },
      "outputs": [
        {
          "output_type": "stream",
          "name": "stdout",
          "text": [
            "1   2   3   4   5   \n",
            "2   4   6   8   10  \n",
            "3   6   9   12  15  \n",
            "4   8   12  16  20  \n",
            "5   10  15  20  25  \n"
          ]
        }
      ],
      "source": [
        "def mul_table1(n, strnumber=1):\n",
        "  if strnumber > n:\n",
        "    return\n",
        "  def print_str(strnumber, final=1):\n",
        "    if final > n:\n",
        "      print()\n",
        "      return\n",
        "    print(f'{strnumber * final:<3}', end=' ')\n",
        "    print_str(strnumber, final + 1)\n",
        "  print_str(strnumber)\n",
        "  mul_table1(n, strnumber + 1)\n",
        "mul_table1(5)\n"
      ]
    },
    {
      "cell_type": "markdown",
      "id": "0f66f844-8d9e-4cd5-83bd-f5c73e0d6ad5",
      "metadata": {
        "id": "0f66f844-8d9e-4cd5-83bd-f5c73e0d6ad5"
      },
      "source": [
        "#### Задача 2.\n",
        "\n",
        "Напишите функцию, которая выводит таблицу умножения. Отформатируйте вывод таким образом, чтобы образовалась сеточка из чисел:\n",
        "\n",
        "    1 2 3 4  5\n",
        "    2 4 6 8 10\n",
        "    ...\n",
        "\n",
        "(Мы с вами подобное уже, кажется, делали, теперь достаточно оформить именно в функцию, чтобы можно было рисовать сеточку не до 9, а до такого числа, какое мы в функцию передадим)."
      ]
    },
    {
      "cell_type": "code",
      "execution_count": 1,
      "id": "dfedf943-0edb-457d-9f5d-7c04f0c1e133",
      "metadata": {
        "id": "dfedf943-0edb-457d-9f5d-7c04f0c1e133",
        "colab": {
          "base_uri": "https://localhost:8080/"
        },
        "outputId": "6d76fabe-f99e-4ee7-f38e-48d859a5e39a"
      },
      "outputs": [
        {
          "output_type": "stream",
          "name": "stdout",
          "text": [
            "1   \n",
            "2   4   \n",
            "3   6   9   \n",
            "4   8   12  16  \n",
            "5   10  15  20  25  \n"
          ]
        }
      ],
      "source": [
        "def mul_table(n):\n",
        "  for i in range(1, n + 1):\n",
        "    for x in range(1, i + 1):\n",
        "      print(f'{i * x:<3}', end=' ')\n",
        "    print()\n",
        "\n",
        "mul_table(5)"
      ]
    },
    {
      "cell_type": "markdown",
      "id": "137562ee-4f17-464f-a1a6-1b392ef030c2",
      "metadata": {
        "id": "137562ee-4f17-464f-a1a6-1b392ef030c2"
      },
      "source": [
        "#### Задача 3.\n",
        "\n",
        "Напишите функцию, которая будет принимать числа a и b, делить их и выводить ответ в формате a / b = c, при этом число c должно быть округлено до двух знаков после запятой. Если знаете варианты, как это можно сделать, напишите варианты."
      ]
    },
    {
      "cell_type": "code",
      "execution_count": null,
      "id": "3ea74a52-0156-4d38-a6c3-0861dd912af5",
      "metadata": {
        "id": "3ea74a52-0156-4d38-a6c3-0861dd912af5"
      },
      "outputs": [],
      "source": [
        "# your code here"
      ]
    },
    {
      "cell_type": "markdown",
      "id": "5e19557e-685a-4d30-bba8-291401f65f3a",
      "metadata": {
        "id": "5e19557e-685a-4d30-bba8-291401f65f3a"
      },
      "source": [
        "#### Задача 4.\n",
        "\n",
        "Напишите функцию для подсчета букв в слове: пользователь вводит какую-то строку, а функция должна в форматированном виде вывести, сколько раз встретилась та или иная буква, например:\n",
        "\n",
        "    >>> 'ABBYY'\n",
        "    'A': 1\n",
        "    'B': 2\n",
        "    'Y': 2"
      ]
    },
    {
      "cell_type": "code",
      "execution_count": null,
      "id": "b246a976-ceba-4e83-aa53-c2e1ebcadafd",
      "metadata": {
        "id": "b246a976-ceba-4e83-aa53-c2e1ebcadafd"
      },
      "outputs": [],
      "source": [
        "# your code here"
      ]
    }
  ],
  "metadata": {
    "kernelspec": {
      "display_name": "Python 3 (ipykernel)",
      "language": "python",
      "name": "python3"
    },
    "language_info": {
      "codemirror_mode": {
        "name": "ipython",
        "version": 3
      },
      "file_extension": ".py",
      "mimetype": "text/x-python",
      "name": "python",
      "nbconvert_exporter": "python",
      "pygments_lexer": "ipython3",
      "version": "3.11.5"
    },
    "colab": {
      "provenance": []
    }
  },
  "nbformat": 4,
  "nbformat_minor": 5
}