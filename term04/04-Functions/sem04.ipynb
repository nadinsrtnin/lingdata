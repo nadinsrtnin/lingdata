{
  "cells": [
    {
      "cell_type": "markdown",
      "id": "67210292-72e6-4acd-83cd-2b1346d5f5e5",
      "metadata": {
        "id": "67210292-72e6-4acd-83cd-2b1346d5f5e5"
      },
      "source": [
        "#### Задача 1.\n",
        "\n",
        "Напишите функцию, которая принимает два целых числа a и b и возвращает результат возведения в степень a ** b, только оператором ** пользоваться нельзя, нужно сделать это в цикле!"
      ]
    },
    {
      "cell_type": "code",
      "execution_count": 92,
      "id": "87d1fb54-d6c1-4d3b-a909-7884b7fb916e",
      "metadata": {
        "id": "87d1fb54-d6c1-4d3b-a909-7884b7fb916e",
        "colab": {
          "base_uri": "https://localhost:8080/"
        },
        "outputId": "d8e73d74-3b81-4241-d9f7-3c054f87fce4"
      },
      "outputs": [
        {
          "output_type": "stream",
          "name": "stdout",
          "text": [
            "None\n"
          ]
        }
      ],
      "source": [
        "def multiplication(a, b):\n",
        "  if b == 0:\n",
        "    return 1\n",
        "  if b < 0:\n",
        "    a = 1 / a\n",
        "    b = -b\n",
        "    result = 1\n",
        "    for _ in range(b):\n",
        "      result *= a\n",
        "    return result\n",
        "print(multiplication(2, 5))"
      ]
    },
    {
      "cell_type": "markdown",
      "id": "d524fcc1-7f0e-4396-ba5d-8d6607e82c5d",
      "metadata": {
        "id": "d524fcc1-7f0e-4396-ba5d-8d6607e82c5d"
      },
      "source": [
        "#### Задача 2.\n",
        "\n",
        "Напишите функцию, которая будет принимать слово и проверять, состоит ли оно только из кириллических букв. Функция должна возвращать объект bool (True/False)."
      ]
    },
    {
      "cell_type": "code",
      "execution_count": 41,
      "id": "846c1e78-5cab-4e55-99eb-433548e504ab",
      "metadata": {
        "id": "846c1e78-5cab-4e55-99eb-433548e504ab"
      },
      "outputs": [],
      "source": [
        "def is_cyrillic(word):\n",
        "  return all('а' <= char <= 'я' or 'А' <= char <= 'Я' for char in word)\n"
      ]
    },
    {
      "cell_type": "markdown",
      "id": "e0515f62-b35c-4f65-85c6-1d9a42ba160f",
      "metadata": {
        "id": "e0515f62-b35c-4f65-85c6-1d9a42ba160f"
      },
      "source": [
        "#### Задача 3.\n",
        "\n",
        "Немного расширим задачу 2: пользователь вводит строчку, а потом выбирает, хочет ли он проверить, что она является палиндромом или что она кириллическая. В зависимости от выбора пользователя должна вызываться одна из двух функций."
      ]
    },
    {
      "cell_type": "code",
      "execution_count": null,
      "id": "c0180c9e-d917-46c1-8df2-7a146a5fe9f7",
      "metadata": {
        "id": "c0180c9e-d917-46c1-8df2-7a146a5fe9f7"
      },
      "outputs": [],
      "source": [
        "# your code here"
      ]
    },
    {
      "cell_type": "markdown",
      "id": "309de2ab-ee4c-4d8f-9af9-c9deb9528f22",
      "metadata": {
        "id": "309de2ab-ee4c-4d8f-9af9-c9deb9528f22"
      },
      "source": [
        "#### Задача 4.\n",
        "\n",
        "Напишите функцию sign, которая принимает целое число и возвращает True, если оно положительное, и False, если оно отрицательное. На 0 можно возвращать объект класса NoneType (None)."
      ]
    },
    {
      "cell_type": "code",
      "execution_count": null,
      "id": "06321dcf-4524-4630-8605-ffe259624e65",
      "metadata": {
        "id": "06321dcf-4524-4630-8605-ffe259624e65"
      },
      "outputs": [],
      "source": [
        "# your code here"
      ]
    },
    {
      "cell_type": "markdown",
      "id": "9fd772ad-e997-4b90-b976-08f76fca58a8",
      "metadata": {
        "id": "9fd772ad-e997-4b90-b976-08f76fca58a8"
      },
      "source": [
        "#### Задача 5.\n",
        "\n",
        "Напишите функцию, которая принимает какое-то число градусов и переводит это число из фаренгейт в цельсий или обратно, в зависимости от того, что указал пользователь. По умолчанию должно переводиться в фаренгейт из цельсия."
      ]
    },
    {
      "cell_type": "code",
      "execution_count": 96,
      "id": "37879052-7a9b-4004-b8d3-7e18fa6cafdd",
      "metadata": {
        "id": "37879052-7a9b-4004-b8d3-7e18fa6cafdd"
      },
      "outputs": [],
      "source": [
        "def temp_convert(value, to_frnheit=True):\n",
        "    if to_frnheit:\n",
        "      return (value * 9/5) + 32\n",
        "    else:\n",
        "      return (value - 32) * 5/9"
      ]
    },
    {
      "cell_type": "markdown",
      "id": "67e644fb-5313-4141-89ab-1ad1cd61b6f2",
      "metadata": {
        "id": "67e644fb-5313-4141-89ab-1ad1cd61b6f2"
      },
      "source": [
        "#### Задача 6.\n",
        "\n",
        "Напишите функцию, которая будет определять, является ли введенная строчка палиндромом или нет, но рекурсивно."
      ]
    },
    {
      "cell_type": "code",
      "source": [],
      "metadata": {
        "id": "w-bdS7qDNfzT"
      },
      "id": "w-bdS7qDNfzT",
      "execution_count": null,
      "outputs": []
    },
    {
      "cell_type": "markdown",
      "id": "e81cf9fc-ab39-45d5-b228-0111c61c0d05",
      "metadata": {
        "id": "e81cf9fc-ab39-45d5-b228-0111c61c0d05"
      },
      "source": [
        "#### Задача 7.\n",
        "\n",
        "Напишите функцию, которая будет принимать число n и проверять, является ли это число степенью двойки (н-р, 1024 является, а 23 - нет). На дополнительный балл: подумайте, нельзя ли эту задачу решить рекурсивно."
      ]
    },
    {
      "cell_type": "code",
      "execution_count": null,
      "id": "f94d0072-acfd-42a1-b2c1-58840ffdc853",
      "metadata": {
        "id": "f94d0072-acfd-42a1-b2c1-58840ffdc853"
      },
      "outputs": [],
      "source": [
        "# your code here"
      ]
    },
    {
      "cell_type": "markdown",
      "id": "bcfd9ccf-fad2-4a7b-8c7e-fd5a3d01f900",
      "metadata": {
        "id": "bcfd9ccf-fad2-4a7b-8c7e-fd5a3d01f900"
      },
      "source": [
        "#### Задача 8.\n",
        "\n",
        "Напишите функцию, которая принимает два числа k и b и возвращает другую функцию, которая вычисляет результат уравнения k * x + b (х - ее аргумент)."
      ]
    },
    {
      "cell_type": "code",
      "execution_count": 97,
      "id": "c56970e9-e5c0-410f-bc62-75353d6ec57d",
      "metadata": {
        "id": "c56970e9-e5c0-410f-bc62-75353d6ec57d"
      },
      "outputs": [],
      "source": [
        "def pryamaya(k, b):\n",
        "  def add_factory(x):\n",
        "    return k*x + b\n"
      ]
    },
    {
      "cell_type": "code",
      "source": [
        "def say_hello(name):\n",
        "    print(f'Hello, {name}!')"
      ],
      "metadata": {
        "id": "poBalIReNail"
      },
      "id": "poBalIReNail",
      "execution_count": 21,
      "outputs": []
    },
    {
      "cell_type": "code",
      "source": [
        "dir()"
      ],
      "metadata": {
        "colab": {
          "base_uri": "https://localhost:8080/"
        },
        "id": "RbhfZhThNhS5",
        "outputId": "1f7d85a2-ca5c-4b6f-a3f7-7494fa7612ba"
      },
      "id": "RbhfZhThNhS5",
      "execution_count": 22,
      "outputs": [
        {
          "output_type": "execute_result",
          "data": {
            "text/plain": [
              "['In',\n",
              " 'Out',\n",
              " '_',\n",
              " '__',\n",
              " '___',\n",
              " '__builtin__',\n",
              " '__builtins__',\n",
              " '__doc__',\n",
              " '__loader__',\n",
              " '__name__',\n",
              " '__package__',\n",
              " '__spec__',\n",
              " '_dh',\n",
              " '_i',\n",
              " '_i1',\n",
              " '_i10',\n",
              " '_i11',\n",
              " '_i12',\n",
              " '_i13',\n",
              " '_i14',\n",
              " '_i15',\n",
              " '_i16',\n",
              " '_i17',\n",
              " '_i18',\n",
              " '_i19',\n",
              " '_i2',\n",
              " '_i20',\n",
              " '_i21',\n",
              " '_i22',\n",
              " '_i3',\n",
              " '_i4',\n",
              " '_i5',\n",
              " '_i6',\n",
              " '_i7',\n",
              " '_i8',\n",
              " '_i9',\n",
              " '_ih',\n",
              " '_ii',\n",
              " '_iii',\n",
              " '_oh',\n",
              " 'exit',\n",
              " 'get_ipython',\n",
              " 'power',\n",
              " 'quit',\n",
              " 'say_hello']"
            ]
          },
          "metadata": {},
          "execution_count": 22
        }
      ]
    },
    {
      "cell_type": "code",
      "source": [
        "say_hello('Vasya')"
      ],
      "metadata": {
        "colab": {
          "base_uri": "https://localhost:8080/"
        },
        "id": "iCB_c1gsNv6B",
        "outputId": "6e3705b6-2dac-4955-ddd2-f02c8d4d3231"
      },
      "id": "iCB_c1gsNv6B",
      "execution_count": 23,
      "outputs": [
        {
          "output_type": "stream",
          "name": "stdout",
          "text": [
            "Hello, Vasya!\n"
          ]
        }
      ]
    },
    {
      "cell_type": "code",
      "source": [
        "def addition(a, b):\n",
        "  print(f'a={a}, b={b}')\n",
        "  print(a + b)"
      ],
      "metadata": {
        "id": "tgIDHuBWOAXK"
      },
      "id": "tgIDHuBWOAXK",
      "execution_count": 36,
      "outputs": []
    },
    {
      "cell_type": "code",
      "source": [
        "addition ('a', 'b')"
      ],
      "metadata": {
        "colab": {
          "base_uri": "https://localhost:8080/"
        },
        "id": "x84VTZu0OKoM",
        "outputId": "63792e16-48c6-47da-af4a-ba927ed82086"
      },
      "id": "x84VTZu0OKoM",
      "execution_count": 37,
      "outputs": [
        {
          "output_type": "stream",
          "name": "stdout",
          "text": [
            "a=a, b=b\n",
            "ab\n"
          ]
        }
      ]
    },
    {
      "cell_type": "code",
      "source": [
        "addition (1, 2) #positional arguments (args, kwargs)"
      ],
      "metadata": {
        "colab": {
          "base_uri": "https://localhost:8080/"
        },
        "id": "6r4V0M0IORpK",
        "outputId": "50b04d6f-1400-4757-97c8-d3d74cea9744"
      },
      "id": "6r4V0M0IORpK",
      "execution_count": 33,
      "outputs": [
        {
          "output_type": "stream",
          "name": "stdout",
          "text": [
            "3\n"
          ]
        }
      ]
    },
    {
      "cell_type": "code",
      "source": [
        "addition (a = 1, b = 2)"
      ],
      "metadata": {
        "colab": {
          "base_uri": "https://localhost:8080/"
        },
        "id": "qmUmEt5xOgSp",
        "outputId": "de4fe336-e77f-4c28-a38b-6f3c56ef1211"
      },
      "id": "qmUmEt5xOgSp",
      "execution_count": 38,
      "outputs": [
        {
          "output_type": "stream",
          "name": "stdout",
          "text": [
            "a=1, b=2\n",
            "3\n"
          ]
        }
      ]
    },
    {
      "cell_type": "code",
      "source": [
        "addition (b = 2, a = 1) #keyword"
      ],
      "metadata": {
        "colab": {
          "base_uri": "https://localhost:8080/"
        },
        "id": "NAJUSI78Omvr",
        "outputId": "c5ba4b1f-d31e-47e6-dadc-c133eeaf4367"
      },
      "id": "NAJUSI78Omvr",
      "execution_count": 39,
      "outputs": [
        {
          "output_type": "stream",
          "name": "stdout",
          "text": [
            "a=1, b=2\n",
            "3\n"
          ]
        }
      ]
    },
    {
      "cell_type": "code",
      "source": [
        "def addition(a: int, b: int) -> None:\n",
        "  '''This function adds up numbers'''\n",
        "  print(a + b)\n",
        "  return a + b"
      ],
      "metadata": {
        "id": "krWPQs_yO04X"
      },
      "id": "krWPQs_yO04X",
      "execution_count": 62,
      "outputs": []
    },
    {
      "cell_type": "code",
      "source": [
        "help(addition)"
      ],
      "metadata": {
        "colab": {
          "base_uri": "https://localhost:8080/"
        },
        "id": "ZxNgm7_KQw5c",
        "outputId": "e75b6b21-06bd-4d84-8dd6-5cf778812eef"
      },
      "id": "ZxNgm7_KQw5c",
      "execution_count": 47,
      "outputs": [
        {
          "output_type": "stream",
          "name": "stdout",
          "text": [
            "Help on function addition in module __main__:\n",
            "\n",
            "addition(a: int, b: int) -> None\n",
            "    This function adds up numbers\n",
            "\n"
          ]
        }
      ]
    },
    {
      "cell_type": "code",
      "source": [
        "result = addition(1, 2)"
      ],
      "metadata": {
        "colab": {
          "base_uri": "https://localhost:8080/"
        },
        "id": "bbXrW4dDQ__Q",
        "outputId": "10c28020-3269-4b74-993b-cfe4143fbea3"
      },
      "id": "bbXrW4dDQ__Q",
      "execution_count": 64,
      "outputs": [
        {
          "output_type": "stream",
          "name": "stdout",
          "text": [
            "3\n"
          ]
        }
      ]
    },
    {
      "cell_type": "code",
      "source": [
        "result = print('qefqec')"
      ],
      "metadata": {
        "colab": {
          "base_uri": "https://localhost:8080/"
        },
        "id": "rAUFommnRWEm",
        "outputId": "6340bab1-af7a-4716-e426-41590d6bd201"
      },
      "id": "rAUFommnRWEm",
      "execution_count": 54,
      "outputs": [
        {
          "output_type": "stream",
          "name": "stdout",
          "text": [
            "qefqec\n"
          ]
        }
      ]
    },
    {
      "cell_type": "code",
      "source": [
        "type(result)"
      ],
      "metadata": {
        "colab": {
          "base_uri": "https://localhost:8080/"
        },
        "id": "lO_ZZVOnRWar",
        "outputId": "c68a6cca-a5b2-42ba-8ecd-c8ef3e687bba"
      },
      "id": "lO_ZZVOnRWar",
      "execution_count": 55,
      "outputs": [
        {
          "output_type": "execute_result",
          "data": {
            "text/plain": [
              "NoneType"
            ]
          },
          "metadata": {},
          "execution_count": 55
        }
      ]
    },
    {
      "cell_type": "code",
      "source": [
        "result"
      ],
      "metadata": {
        "id": "noanqdj3ReBI"
      },
      "id": "noanqdj3ReBI",
      "execution_count": 56,
      "outputs": []
    },
    {
      "cell_type": "code",
      "source": [
        "x = 1"
      ],
      "metadata": {
        "id": "q-4Qsoa_SgZ1"
      },
      "id": "q-4Qsoa_SgZ1",
      "execution_count": 78,
      "outputs": []
    },
    {
      "cell_type": "code",
      "source": [
        "def func(x):\n",
        "  x += 2 #x = x + 2\n",
        "  print(x + 2)"
      ],
      "metadata": {
        "id": "upQVulYJSaHw"
      },
      "id": "upQVulYJSaHw",
      "execution_count": 82,
      "outputs": []
    },
    {
      "cell_type": "code",
      "source": [
        "func(x) #x(local) = x(1)"
      ],
      "metadata": {
        "colab": {
          "base_uri": "https://localhost:8080/"
        },
        "id": "l5ectRxlSjr-",
        "outputId": "bf68d0d6-718b-4641-d0e2-543bc87235c8"
      },
      "id": "l5ectRxlSjr-",
      "execution_count": 83,
      "outputs": [
        {
          "output_type": "stream",
          "name": "stdout",
          "text": [
            "5\n"
          ]
        }
      ]
    },
    {
      "cell_type": "code",
      "source": [
        "x"
      ],
      "metadata": {
        "colab": {
          "base_uri": "https://localhost:8080/"
        },
        "id": "UHTnjVJsSnIl",
        "outputId": "6e0a7d2b-b037-44a5-b4fa-e74b6202f224"
      },
      "id": "UHTnjVJsSnIl",
      "execution_count": 69,
      "outputs": [
        {
          "output_type": "execute_result",
          "data": {
            "text/plain": [
              "1"
            ]
          },
          "metadata": {},
          "execution_count": 69
        }
      ]
    },
    {
      "cell_type": "code",
      "source": [
        "def func():\n",
        "  global x\n",
        "  x += 2 #x = x + 2\n",
        "  print(x)"
      ],
      "metadata": {
        "id": "EEUF3hXYTT-e"
      },
      "id": "EEUF3hXYTT-e",
      "execution_count": null,
      "outputs": []
    },
    {
      "cell_type": "code",
      "source": [
        "def func1():\n",
        "  func2()\n",
        "\n",
        "def func2():\n",
        "  print('This is func2')\n",
        "\n",
        "func1()"
      ],
      "metadata": {
        "colab": {
          "base_uri": "https://localhost:8080/"
        },
        "id": "GIme-X2BT11j",
        "outputId": "6cfdb7e3-5dd4-4ab6-92c4-dcac8393b404"
      },
      "id": "GIme-X2BT11j",
      "execution_count": 84,
      "outputs": [
        {
          "output_type": "stream",
          "name": "stdout",
          "text": [
            "This is func2\n"
          ]
        }
      ]
    },
    {
      "cell_type": "code",
      "source": [
        "4! = 1*2*3*4 = 24"
      ],
      "metadata": {
        "id": "YKmaE3wSUP02"
      },
      "id": "YKmaE3wSUP02",
      "execution_count": null,
      "outputs": []
    },
    {
      "cell_type": "code",
      "source": [
        "def fact(n: int):\n",
        "  if n < 0:\n",
        "    return\n",
        "  if n == 0: #elif is useless here\n",
        "    return 1\n",
        "  res = 1\n",
        "  for i in range(1, n + 1):\n",
        "    res *= i\n",
        "  return res"
      ],
      "metadata": {
        "id": "AsEYvkfQUSst"
      },
      "id": "AsEYvkfQUSst",
      "execution_count": 89,
      "outputs": []
    },
    {
      "cell_type": "code",
      "source": [
        "fact(4)"
      ],
      "metadata": {
        "colab": {
          "base_uri": "https://localhost:8080/"
        },
        "id": "ppEx7rgiU9kN",
        "outputId": "8e24f497-fad1-4632-b31a-c122d57be94d"
      },
      "id": "ppEx7rgiU9kN",
      "execution_count": 90,
      "outputs": [
        {
          "output_type": "execute_result",
          "data": {
            "text/plain": [
              "24"
            ]
          },
          "metadata": {},
          "execution_count": 90
        }
      ]
    },
    {
      "cell_type": "code",
      "source": [
        "def fact(n: int):\n",
        "  if n < 0:\n",
        "    return\n",
        "  if n == 0: #elif is useless here\n",
        "    return 1\n",
        "  return n * fact(n - 1)"
      ],
      "metadata": {
        "id": "rG312Bj4WEkO"
      },
      "id": "rG312Bj4WEkO",
      "execution_count": 91,
      "outputs": []
    },
    {
      "cell_type": "code",
      "source": [
        "fact(4) #stack = 4, 3"
      ],
      "metadata": {
        "id": "_6zjjZNwWSGG"
      },
      "id": "_6zjjZNwWSGG",
      "execution_count": null,
      "outputs": []
    }
  ],
  "metadata": {
    "kernelspec": {
      "display_name": "Python 3 (ipykernel)",
      "language": "python",
      "name": "python3"
    },
    "language_info": {
      "codemirror_mode": {
        "name": "ipython",
        "version": 3
      },
      "file_extension": ".py",
      "mimetype": "text/x-python",
      "name": "python",
      "nbconvert_exporter": "python",
      "pygments_lexer": "ipython3",
      "version": "3.11.5"
    },
    "colab": {
      "provenance": []
    }
  },
  "nbformat": 4,
  "nbformat_minor": 5
}